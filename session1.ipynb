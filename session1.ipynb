{
 "cells": [
  {
   "attachments": {},
   "cell_type": "markdown",
   "metadata": {},
   "source": [
    "# Comments\n",
    "\n",
    "One-line comments start with hash (#) sign.\n",
    "\n",
    "Note that comment can be in line where code itself is or in a separate line.\n",
    "\n",
    "Three double or three single quotes may be used for a multi-line comment"
   ]
  },
  {
   "cell_type": "code",
   "execution_count": 26,
   "metadata": {},
   "outputs": [
    {
     "data": {
      "text/plain": [
       "'\\nThis\\nis\\na\\nmultiline\\ncommment\\n'"
      ]
     },
     "execution_count": 26,
     "metadata": {},
     "output_type": "execute_result"
    }
   ],
   "source": [
    "# This is a single line comment\n",
    "\n",
    "a = 1 # This is a in line comment\n",
    "\n",
    "'''\n",
    "This\n",
    "is\n",
    "a\n",
    "multiline\n",
    "commment\n",
    "'''"
   ]
  },
  {
   "attachments": {},
   "cell_type": "markdown",
   "metadata": {},
   "source": [
    "# Variables and Data types\n",
    "\n",
    "**Variables**\n",
    "A variable holds a value. You can change the value of a variable at any point.\n",
    "\n",
    "Variables in Python do not require variable type declaration\n",
    "\n",
    "\n",
    "**Naming rules**\n",
    "* Name of variable can consist only of letters, digits and an underscore.\n",
    "* Variable names can start with a letter or an underscore, but can not start with a number.\n",
    "* Spaces or any other special characters @, $, % are not allowed in variable names.\n",
    "* You cannot use [Python keywords](https://docs.python.org/3/reference/lexical_analysis.html#keywords) as variable names."
   ]
  },
  {
   "cell_type": "code",
   "execution_count": 27,
   "metadata": {},
   "outputs": [
    {
     "name": "stdout",
     "output_type": "stream",
     "text": [
      "Addition: 1 + 2 = 3\n",
      "Subtraction: 1 - 2 = -1\n",
      "Multiplication: 1 * 2 = 2\n",
      "Division: 1 / 2 = 0.5\n",
      "Power: 1 ** 2 = 1\n",
      "Modolu: 1 % 2 = 0\n"
     ]
    }
   ],
   "source": [
    "# Numeric\n",
    "a = 1 # this is a numeric variable\n",
    "b = 2 # another numeric variable\n",
    "\n",
    "# Numeric variables are used for mathematical operations\n",
    "\n",
    "# Addition\n",
    "print(f\"Addition: {a} + {b} = {a + b}\")\n",
    "\n",
    "# Subtraction\n",
    "print(f\"Subtraction: {a} - {b} = {a - b}\")\n",
    "\n",
    "# Multiplication\n",
    "print(f\"Multiplication: {a} * {b} = {a * b}\")\n",
    "\n",
    "# Division \n",
    "print(f\"Division: {a} / {b} = {a / b}\")\n",
    "\n",
    "# Power\n",
    "print(f\"Power: {a} ** {b} = {a ** b}\")\n",
    "\n",
    "# Modolu\n",
    "print(f\"Modolu: {a} % {b} = {a & b}\")"
   ]
  },
  {
   "cell_type": "code",
   "execution_count": 32,
   "metadata": {},
   "outputs": [
    {
     "name": "stdout",
     "output_type": "stream",
     "text": [
      "ip address 192.168.1.1/24\n",
      "ip address 192.168.1.1/24\n",
      "ip address 192.168.1.1/24\n",
      "IP ADDRESS\n",
      "True\n",
      "True\n"
     ]
    }
   ],
   "source": [
    "# String\n",
    "cmd = 'ip address'\n",
    "ip_address = '192.168.1.1' # string variable: any sequence of characters enclosed in quotes (single/double quotes)\n",
    "ipv4_mask = '24'\n",
    "\n",
    "# String formatting\n",
    "print(\"{} {}/{}\".format(cmd, ip_address, ipv4_mask))\n",
    "print(f\"{cmd} {ip_address}/{ipv4_mask}\")\n",
    "\n",
    "# strings concatenation\n",
    "print(cmd + ' ' + ip_address + '/' + ipv4_mask)\n",
    "\n",
    "# String methods\n",
    "print(cmd.upper())\n",
    "print(cmd.startswith('ip'))\n",
    "print(cmd.endswith('address'))"
   ]
  },
  {
   "cell_type": "code",
   "execution_count": 33,
   "metadata": {},
   "outputs": [
    {
     "name": "stdout",
     "output_type": "stream",
     "text": [
      "1/1/1\n",
      "['1/1/1', '1/1/2', '1/1/3', '1/1/4']\n",
      "4\n"
     ]
    }
   ],
   "source": [
    "# List\n",
    "ports = ['1/1/1', '1/1/2', '1/1/3'] # list variable: sequence of elements separated by comma and enclosed in square brackets\n",
    "print(ports[0]) # you can access list element by position, starting with 0\n",
    "ports.append('1/1/4') # adding element to a list\n",
    "print(ports)\n",
    "print(len(ports)) # The len function returns number of items in list"
   ]
  },
  {
   "cell_type": "code",
   "execution_count": 34,
   "metadata": {},
   "outputs": [
    {
     "name": "stdout",
     "output_type": "stream",
     "text": [
      "dict_keys(['port1', 'port2', 'port3', 'port4'])\n",
      "dict_values(['1/1/1', '1/1/2', '1/1/3', '1/1/4'])\n",
      "dict_items([('port1', '1/1/1'), ('port2', '1/1/2'), ('port3', '1/1/3'), ('port4', '1/1/4')])\n",
      "1/1/2\n",
      "4\n"
     ]
    }
   ],
   "source": [
    "# Dictionary\n",
    "ports = {'port1': '1/1/1', 'port2': '1/1/2', 'port3': '1/1/3'} # dictionary variable, pairs key: value\n",
    "ports['port4'] = '1/1/4' # adding a new pair of key: value to dic\n",
    "print(ports.keys()) # get dic keys\n",
    "print(ports.values()) # get dic values\n",
    "print(ports.items()) # get dic pairs key: value\n",
    "print(ports['port2']) # get value by key\n",
    "\n",
    "print(len(ports)) # The len function also work with dictionaries\n",
    "\n",
    "# Boolean\n",
    "enabled = True # Boolean variable\n",
    "enabled = False\n"
   ]
  }
 ],
 "metadata": {
  "kernelspec": {
   "display_name": "course",
   "language": "python",
   "name": "python3"
  },
  "language_info": {
   "codemirror_mode": {
    "name": "ipython",
    "version": 3
   },
   "file_extension": ".py",
   "mimetype": "text/x-python",
   "name": "python",
   "nbconvert_exporter": "python",
   "pygments_lexer": "ipython3",
   "version": "3.7.10"
  },
  "orig_nbformat": 4
 },
 "nbformat": 4,
 "nbformat_minor": 2
}
