{
 "cells": [
  {
   "attachments": {},
   "cell_type": "markdown",
   "metadata": {},
   "source": [
    "# Control structures"
   ]
  },
  {
   "attachments": {},
   "cell_type": "markdown",
   "metadata": {},
   "source": [
    "## Conditional: if/elif/else\n",
    "\n",
    "If expression is based on conditions\n",
    "\n",
    "**True and False**\n",
    "\n",
    "In Python, apart from obvious True and False values, all other objects also have false or true value:\n",
    "\n",
    "True value:\n",
    "\n",
    "* any non-zero number\n",
    "* any non-empty string\n",
    "* any non-empty object\n",
    "\n",
    "False value:\n",
    "\n",
    "* 0\n",
    "* None\n",
    "* empty string\n",
    "* empty object"
   ]
  },
  {
   "cell_type": "code",
   "execution_count": 12,
   "metadata": {},
   "outputs": [
    {
     "name": "stdout",
     "output_type": "stream",
     "text": [
      "set ospf config\n"
     ]
    }
   ],
   "source": [
    "protocol = 'ospf'\n",
    "if protocol == 'rip':\n",
    "    print('set rip config')\n",
    "elif protocol == 'bgp':\n",
    "    print('set bgp config')\n",
    "else:\n",
    "    print('set ospf config')\n"
   ]
  },
  {
   "attachments": {},
   "cell_type": "markdown",
   "metadata": {},
   "source": [
    "**Comparison operators**: <, >, ==, >=, <=, !="
   ]
  },
  {
   "cell_type": "code",
   "execution_count": 13,
   "metadata": {},
   "outputs": [
    {
     "name": "stdout",
     "output_type": "stream",
     "text": [
      "set port as vlan trunk\n"
     ]
    }
   ],
   "source": [
    "vlan_id = 10\n",
    "if vlan_id != 1:\n",
    "    print('set port as vlan trunk')"
   ]
  },
  {
   "attachments": {},
   "cell_type": "markdown",
   "metadata": {},
   "source": [
    "**Operator in**: allows checking for the presence of element in a list"
   ]
  },
  {
   "cell_type": "code",
   "execution_count": 14,
   "metadata": {},
   "outputs": [
    {
     "name": "stdout",
     "output_type": "stream",
     "text": [
      "vlan found\n"
     ]
    }
   ],
   "source": [
    "vlans = [10, 20, 30, 40, 50]\n",
    "if 30 in vlans:\n",
    "    print('vlan found')"
   ]
  },
  {
   "attachments": {},
   "cell_type": "markdown",
   "metadata": {},
   "source": [
    "**Logical operators**: and, or, not"
   ]
  },
  {
   "cell_type": "code",
   "execution_count": 15,
   "metadata": {},
   "outputs": [
    {
     "name": "stdout",
     "output_type": "stream",
     "text": [
      "vlan found\n",
      "a and b are False\n"
     ]
    }
   ],
   "source": [
    "vlans = [10, 20, 30, 40, 50]\n",
    "if 60 not in vlans:\n",
    "    print('vlan found')\n",
    "else:\n",
    "    print('vlan not found')\n",
    "\n",
    "a = None\n",
    "b = ''\n",
    "if a and b:\n",
    "    pass\n",
    "elif a or b:\n",
    "    pass\n",
    "else:\n",
    "    print('a and b are False')"
   ]
  },
  {
   "attachments": {},
   "cell_type": "markdown",
   "metadata": {},
   "source": [
    "**Ternary expression**:"
   ]
  },
  {
   "cell_type": "code",
   "execution_count": 16,
   "metadata": {},
   "outputs": [
    {
     "name": "stdout",
     "output_type": "stream",
     "text": [
      "False\n"
     ]
    }
   ],
   "source": [
    "s = [1, 2, 3, 4]\n",
    "result = True if len(s) > 5 else False\n",
    "print(result)"
   ]
  },
  {
   "attachments": {},
   "cell_type": "markdown",
   "metadata": {},
   "source": [
    "## Loop:"
   ]
  },
  {
   "attachments": {},
   "cell_type": "markdown",
   "metadata": {},
   "source": [
    "### for\n",
    "\n",
    "For loop iterates elements of specified sequence and performs actions specified for each element\n",
    "\n",
    "Examples of sequences of elements that can be iterated by for:\n",
    "\n",
    "* string\n",
    "* list\n",
    "* dictionary\n",
    "* range"
   ]
  },
  {
   "cell_type": "code",
   "execution_count": 17,
   "metadata": {},
   "outputs": [
    {
     "name": "stdout",
     "output_type": "stream",
     "text": [
      "port1: 1/1/1\n",
      "port2: 1/1/2\n",
      "port3: 1/1/3\n",
      "vlan id: 1\n",
      "vlan id: 2\n",
      "vlan id: 3\n",
      "vlan id: 4\n",
      "port1: 1/1/1\n",
      "port2: 1/1/2\n",
      "port3: 1/1/3\n"
     ]
    }
   ],
   "source": [
    "# example using a dictionary\n",
    "ports = {'port1': '1/1/1', 'port2': '1/1/2', 'port3': '1/1/3'}\n",
    "for key, port in ports.items():\n",
    "    print(f'{key}: {port}')\n",
    "\n",
    "# example using range function\n",
    "for vlan_id in range(1,5):\n",
    "    print(f'vlan id: {vlan_id}')\n",
    "\n",
    "# zip function\n",
    "for label, port in zip(['port1', 'port2', 'port3'], ['1/1/1', '1/1/2', '1/1/3']):\n",
    "    print(f'{label}: {port}')\n"
   ]
  },
  {
   "attachments": {},
   "cell_type": "markdown",
   "metadata": {},
   "source": [
    "### while\n",
    "\n",
    "In the while loop, as in the if statement, you need to write a condition. If the condition is true, the actions inside the while block are executed."
   ]
  },
  {
   "cell_type": "code",
   "execution_count": 18,
   "metadata": {},
   "outputs": [
    {
     "name": "stdout",
     "output_type": "stream",
     "text": [
      "1\n",
      "2\n",
      "3\n",
      "4\n"
     ]
    }
   ],
   "source": [
    "vlan = 1\n",
    "while vlan < 5:\n",
    "    print(vlan)\n",
    "    vlan += 1 # increment vlan by 1\n"
   ]
  },
  {
   "attachments": {},
   "cell_type": "markdown",
   "metadata": {},
   "source": [
    "### break, continue, pass\n",
    "\n",
    "Operators to change default loop behavior.\n",
    "\n",
    "* **break** allows early termination of loop\n",
    "* **continue** returns control to the beginning of loop\n",
    "* **pass** does nothing. Basically it is a placeholder"
   ]
  },
  {
   "cell_type": "code",
   "execution_count": 19,
   "metadata": {},
   "outputs": [
    {
     "name": "stdout",
     "output_type": "stream",
     "text": [
      "1\n",
      "2\n",
      "\n",
      "\n",
      "1\n",
      "3\n",
      "4\n"
     ]
    }
   ],
   "source": [
    "# break\n",
    "for vlan in [1, 2, 3, 4]:\n",
    "    print(vlan)\n",
    "    if vlan == 2:\n",
    "        break # exit loop when vlan == 2\n",
    "\n",
    "print('\\n')\n",
    "\n",
    "# continue\n",
    "for vlan in [1, 2, 3, 4]:\n",
    "    if vlan == 2:\n",
    "        continue # do not print if vlan == 2 and jump to next item\n",
    "    print(vlan)\n"
   ]
  },
  {
   "attachments": {},
   "cell_type": "markdown",
   "metadata": {},
   "source": [
    "### for/else, while/else\n",
    "\n",
    "block **else** is executed if loop has completed iteration of list\n",
    "but it does not execute if break was applied in loop."
   ]
  },
  {
   "cell_type": "code",
   "execution_count": 20,
   "metadata": {},
   "outputs": [
    {
     "name": "stdout",
     "output_type": "stream",
     "text": [
      "vlan 5 not found\n"
     ]
    }
   ],
   "source": [
    "for vlan in [1, 2, 3, 4]:\n",
    "    if vlan == 5:\n",
    "        break\n",
    "else:\n",
    "    print('vlan 5 not found')\n"
   ]
  },
  {
   "attachments": {},
   "cell_type": "markdown",
   "metadata": {},
   "source": [
    "## Functions\n",
    "\n",
    "* Has a name to run a code block\n",
    "* Arguments can be passed to functions\n",
    "* Functions can be defined in local code, imported from a library or natively defined as part of Python\n",
    "* functions are created with a reserved word: **def**"
   ]
  },
  {
   "cell_type": "code",
   "execution_count": 21,
   "metadata": {},
   "outputs": [
    {
     "name": "stdout",
     "output_type": "stream",
     "text": [
      "Hello Jorge\n"
     ]
    }
   ],
   "source": [
    "def say_hello(name):\n",
    "    print(f'Hello {name}')\n",
    "\n",
    "name = input()\n",
    "say_hello(name)"
   ]
  },
  {
   "attachments": {},
   "cell_type": "markdown",
   "metadata": {},
   "source": [
    "### return operator\n",
    "\n",
    "* it is used to terminate and exit a function\n",
    "* most often **return** operator returns some value"
   ]
  },
  {
   "cell_type": "code",
   "execution_count": 22,
   "metadata": {},
   "outputs": [
    {
     "name": "stdout",
     "output_type": "stream",
     "text": [
      "Hello Jorge\n"
     ]
    }
   ],
   "source": [
    "def say_hello(name):\n",
    "    return f'Hello {name}'\n",
    "\n",
    "name = input()\n",
    "hello_message = say_hello(name)\n",
    "print(hello_message)"
   ]
  }
 ],
 "metadata": {
  "kernelspec": {
   "display_name": "course",
   "language": "python",
   "name": "python3"
  },
  "language_info": {
   "codemirror_mode": {
    "name": "ipython",
    "version": 3
   },
   "file_extension": ".py",
   "mimetype": "text/x-python",
   "name": "python",
   "nbconvert_exporter": "python",
   "pygments_lexer": "ipython3",
   "version": "3.7.10"
  },
  "orig_nbformat": 4
 },
 "nbformat": 4,
 "nbformat_minor": 2
}
